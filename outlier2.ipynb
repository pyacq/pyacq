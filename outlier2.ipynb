{
  "nbformat": 4,
  "nbformat_minor": 0,
  "metadata": {
    "colab": {
      "name": "outlier2.ipynb",
      "provenance": [],
      "authorship_tag": "ABX9TyPFLJQmtJVl/LSeKNgjNK5I",
      "include_colab_link": true
    },
    "kernelspec": {
      "name": "python3",
      "display_name": "Python 3"
    }
  },
  "cells": [
    {
      "cell_type": "markdown",
      "metadata": {
        "id": "view-in-github",
        "colab_type": "text"
      },
      "source": [
        "<a href=\"https://colab.research.google.com/github/fjaragones/pyacq/blob/master/outlier2.ipynb\" target=\"_parent\"><img src=\"https://colab.research.google.com/assets/colab-badge.svg\" alt=\"Open In Colab\"/></a>"
      ]
    },
    {
      "cell_type": "markdown",
      "metadata": {
        "id": "KSn_AoN7Ed66"
      },
      "source": [
        "Back to index https://colab.research.google.com/drive/1PClMnIL0HgG6mY3jggF2XwPSpmxrGIAO#scrollTo=hkqD5mb6-Wql"
      ]
    },
    {
      "cell_type": "markdown",
      "metadata": {
        "id": "-0Lw-l_UEh7g"
      },
      "source": [
        "- part 1: univariate https://towardsdatascience.com/detecting-and-treating-outliers-in-python-part-1-4ece5098b755\r\n",
        "- part 2: multivariate https://towardsdatascience.com/detecting-and-treating-outliers-in-python-part-2-3a3319ec2c33"
      ]
    },
    {
      "cell_type": "code",
      "metadata": {
        "id": "4YvTjRQ7Eadn"
      },
      "source": [
        ""
      ],
      "execution_count": null,
      "outputs": []
    }
  ]
}